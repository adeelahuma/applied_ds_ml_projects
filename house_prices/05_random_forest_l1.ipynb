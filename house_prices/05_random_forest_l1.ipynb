{
 "cells": [
  {
   "cell_type": "code",
   "execution_count": 16,
   "metadata": {},
   "outputs": [],
   "source": [
    "import pandas as pd\n",
    "import numpy as np\n",
    "\n",
    "from sklearn.model_selection import train_test_split\n",
    "from sklearn.ensemble import RandomForestRegressor\n",
    "from sklearn.metrics import mean_squared_error\n",
    "from sklearn.metrics import r2_score \n"
   ]
  },
  {
   "cell_type": "code",
   "execution_count": 8,
   "metadata": {},
   "outputs": [
    {
     "data": {
      "text/plain": [
       "(1430, 20)"
      ]
     },
     "execution_count": 8,
     "metadata": {},
     "output_type": "execute_result"
    }
   ],
   "source": [
    "data = pd.read_pickle('data/final_train_data_l1_reg.pkl')\n",
    "data.shape"
   ]
  },
  {
   "cell_type": "code",
   "execution_count": 9,
   "metadata": {},
   "outputs": [
    {
     "data": {
      "text/html": [
       "<div>\n",
       "<style scoped>\n",
       "    .dataframe tbody tr th:only-of-type {\n",
       "        vertical-align: middle;\n",
       "    }\n",
       "\n",
       "    .dataframe tbody tr th {\n",
       "        vertical-align: top;\n",
       "    }\n",
       "\n",
       "    .dataframe thead th {\n",
       "        text-align: right;\n",
       "    }\n",
       "</style>\n",
       "<table border=\"1\" class=\"dataframe\">\n",
       "  <thead>\n",
       "    <tr style=\"text-align: right;\">\n",
       "      <th></th>\n",
       "      <th>BsmtUnfSF</th>\n",
       "      <th>2ndFlrSF</th>\n",
       "      <th>GarageArea</th>\n",
       "      <th>LotArea_log</th>\n",
       "      <th>MasVnrArea_log</th>\n",
       "      <th>BsmtFinSF1_log</th>\n",
       "      <th>WoodDeckSF_log</th>\n",
       "      <th>OpenPorchSF_log</th>\n",
       "      <th>EnclosedPorch_log</th>\n",
       "      <th>3SsnPorch_log</th>\n",
       "      <th>ScreenPorch_log</th>\n",
       "      <th>MiscVal_log</th>\n",
       "      <th>total_sqft_house_log</th>\n",
       "      <th>Foundation_PConc</th>\n",
       "      <th>BsmtQual_TA</th>\n",
       "      <th>HeatingQC_Ex</th>\n",
       "      <th>KitchenQual_TA</th>\n",
       "      <th>GarageType_Attchd</th>\n",
       "      <th>has_fireplace_1</th>\n",
       "      <th>SalePrice_log</th>\n",
       "    </tr>\n",
       "  </thead>\n",
       "  <tbody>\n",
       "    <tr>\n",
       "      <th>0</th>\n",
       "      <td>150</td>\n",
       "      <td>854</td>\n",
       "      <td>548</td>\n",
       "      <td>9.041922</td>\n",
       "      <td>5.278115</td>\n",
       "      <td>6.559615</td>\n",
       "      <td>-9.210340</td>\n",
       "      <td>4.110876</td>\n",
       "      <td>-9.210340</td>\n",
       "      <td>-9.21034</td>\n",
       "      <td>-9.21034</td>\n",
       "      <td>-9.21034</td>\n",
       "      <td>8.043663</td>\n",
       "      <td>1</td>\n",
       "      <td>0</td>\n",
       "      <td>1</td>\n",
       "      <td>0</td>\n",
       "      <td>1</td>\n",
       "      <td>0</td>\n",
       "      <td>12.247694</td>\n",
       "    </tr>\n",
       "    <tr>\n",
       "      <th>1</th>\n",
       "      <td>284</td>\n",
       "      <td>0</td>\n",
       "      <td>460</td>\n",
       "      <td>9.169518</td>\n",
       "      <td>-9.210340</td>\n",
       "      <td>6.885510</td>\n",
       "      <td>5.697094</td>\n",
       "      <td>-9.210340</td>\n",
       "      <td>-9.210340</td>\n",
       "      <td>-9.21034</td>\n",
       "      <td>-9.21034</td>\n",
       "      <td>-9.21034</td>\n",
       "      <td>8.001020</td>\n",
       "      <td>0</td>\n",
       "      <td>0</td>\n",
       "      <td>1</td>\n",
       "      <td>1</td>\n",
       "      <td>1</td>\n",
       "      <td>1</td>\n",
       "      <td>12.109011</td>\n",
       "    </tr>\n",
       "    <tr>\n",
       "      <th>2</th>\n",
       "      <td>434</td>\n",
       "      <td>866</td>\n",
       "      <td>608</td>\n",
       "      <td>9.328123</td>\n",
       "      <td>5.087597</td>\n",
       "      <td>6.186209</td>\n",
       "      <td>-9.210340</td>\n",
       "      <td>3.737672</td>\n",
       "      <td>-9.210340</td>\n",
       "      <td>-9.21034</td>\n",
       "      <td>-9.21034</td>\n",
       "      <td>-9.21034</td>\n",
       "      <td>8.105911</td>\n",
       "      <td>1</td>\n",
       "      <td>0</td>\n",
       "      <td>1</td>\n",
       "      <td>0</td>\n",
       "      <td>1</td>\n",
       "      <td>1</td>\n",
       "      <td>12.317167</td>\n",
       "    </tr>\n",
       "    <tr>\n",
       "      <th>3</th>\n",
       "      <td>540</td>\n",
       "      <td>756</td>\n",
       "      <td>642</td>\n",
       "      <td>9.164296</td>\n",
       "      <td>-9.210340</td>\n",
       "      <td>5.375279</td>\n",
       "      <td>-9.210340</td>\n",
       "      <td>3.555351</td>\n",
       "      <td>5.605802</td>\n",
       "      <td>-9.21034</td>\n",
       "      <td>-9.21034</td>\n",
       "      <td>-9.21034</td>\n",
       "      <td>7.917536</td>\n",
       "      <td>0</td>\n",
       "      <td>1</td>\n",
       "      <td>0</td>\n",
       "      <td>0</td>\n",
       "      <td>0</td>\n",
       "      <td>1</td>\n",
       "      <td>11.849398</td>\n",
       "    </tr>\n",
       "    <tr>\n",
       "      <th>4</th>\n",
       "      <td>490</td>\n",
       "      <td>1053</td>\n",
       "      <td>836</td>\n",
       "      <td>9.565214</td>\n",
       "      <td>5.857933</td>\n",
       "      <td>6.484635</td>\n",
       "      <td>5.257496</td>\n",
       "      <td>4.430818</td>\n",
       "      <td>-9.210340</td>\n",
       "      <td>-9.21034</td>\n",
       "      <td>-9.21034</td>\n",
       "      <td>-9.21034</td>\n",
       "      <td>8.337827</td>\n",
       "      <td>1</td>\n",
       "      <td>0</td>\n",
       "      <td>1</td>\n",
       "      <td>0</td>\n",
       "      <td>1</td>\n",
       "      <td>1</td>\n",
       "      <td>12.429216</td>\n",
       "    </tr>\n",
       "  </tbody>\n",
       "</table>\n",
       "</div>"
      ],
      "text/plain": [
       "   BsmtUnfSF  2ndFlrSF  GarageArea  LotArea_log  MasVnrArea_log  \\\n",
       "0        150       854         548     9.041922        5.278115   \n",
       "1        284         0         460     9.169518       -9.210340   \n",
       "2        434       866         608     9.328123        5.087597   \n",
       "3        540       756         642     9.164296       -9.210340   \n",
       "4        490      1053         836     9.565214        5.857933   \n",
       "\n",
       "   BsmtFinSF1_log  WoodDeckSF_log  OpenPorchSF_log  EnclosedPorch_log  \\\n",
       "0        6.559615       -9.210340         4.110876          -9.210340   \n",
       "1        6.885510        5.697094        -9.210340          -9.210340   \n",
       "2        6.186209       -9.210340         3.737672          -9.210340   \n",
       "3        5.375279       -9.210340         3.555351           5.605802   \n",
       "4        6.484635        5.257496         4.430818          -9.210340   \n",
       "\n",
       "   3SsnPorch_log  ScreenPorch_log  MiscVal_log  total_sqft_house_log  \\\n",
       "0       -9.21034         -9.21034     -9.21034              8.043663   \n",
       "1       -9.21034         -9.21034     -9.21034              8.001020   \n",
       "2       -9.21034         -9.21034     -9.21034              8.105911   \n",
       "3       -9.21034         -9.21034     -9.21034              7.917536   \n",
       "4       -9.21034         -9.21034     -9.21034              8.337827   \n",
       "\n",
       "   Foundation_PConc  BsmtQual_TA  HeatingQC_Ex  KitchenQual_TA  \\\n",
       "0                 1            0             1               0   \n",
       "1                 0            0             1               1   \n",
       "2                 1            0             1               0   \n",
       "3                 0            1             0               0   \n",
       "4                 1            0             1               0   \n",
       "\n",
       "   GarageType_Attchd  has_fireplace_1  SalePrice_log  \n",
       "0                  1                0      12.247694  \n",
       "1                  1                1      12.109011  \n",
       "2                  1                1      12.317167  \n",
       "3                  0                1      11.849398  \n",
       "4                  1                1      12.429216  "
      ]
     },
     "execution_count": 9,
     "metadata": {},
     "output_type": "execute_result"
    }
   ],
   "source": [
    "data.head()"
   ]
  },
  {
   "cell_type": "code",
   "execution_count": 15,
   "metadata": {},
   "outputs": [
    {
     "data": {
      "text/plain": [
       "((1430, 19), (1430,))"
      ]
     },
     "execution_count": 15,
     "metadata": {},
     "output_type": "execute_result"
    }
   ],
   "source": [
    "X = data.iloc[:, :-1]\n",
    "y = data.iloc[:, -1]\n",
    "\n",
    "X.shape, y.shape"
   ]
  },
  {
   "cell_type": "code",
   "execution_count": 17,
   "metadata": {},
   "outputs": [],
   "source": [
    "X_train, X_test, y_train, y_test = train_test_split(X, y, test_size=0.2, random_state=0)"
   ]
  },
  {
   "cell_type": "code",
   "execution_count": 18,
   "metadata": {},
   "outputs": [],
   "source": [
    "model = RandomForestRegressor()"
   ]
  },
  {
   "cell_type": "code",
   "execution_count": 19,
   "metadata": {},
   "outputs": [
    {
     "data": {
      "text/plain": [
       "RandomForestRegressor(bootstrap=True, ccp_alpha=0.0, criterion='mse',\n",
       "                      max_depth=None, max_features='auto', max_leaf_nodes=None,\n",
       "                      max_samples=None, min_impurity_decrease=0.0,\n",
       "                      min_impurity_split=None, min_samples_leaf=1,\n",
       "                      min_samples_split=2, min_weight_fraction_leaf=0.0,\n",
       "                      n_estimators=100, n_jobs=None, oob_score=False,\n",
       "                      random_state=None, verbose=0, warm_start=False)"
      ]
     },
     "execution_count": 19,
     "metadata": {},
     "output_type": "execute_result"
    }
   ],
   "source": [
    "model.fit(X_train, y_train)"
   ]
  },
  {
   "cell_type": "code",
   "execution_count": 20,
   "metadata": {},
   "outputs": [],
   "source": [
    "y_pred = model.predict(X_test)"
   ]
  },
  {
   "cell_type": "code",
   "execution_count": 21,
   "metadata": {},
   "outputs": [
    {
     "data": {
      "text/plain": [
       "0.7883798382639959"
      ]
     },
     "execution_count": 21,
     "metadata": {},
     "output_type": "execute_result"
    }
   ],
   "source": [
    "r2_score(y_test, y_pred)"
   ]
  },
  {
   "cell_type": "code",
   "execution_count": 22,
   "metadata": {},
   "outputs": [
    {
     "name": "stdout",
     "output_type": "stream",
     "text": [
      "MSE: 0.02678563520337674, RMSE: 0.163663176076284\n"
     ]
    }
   ],
   "source": [
    "print( 'MSE: {0}, RMSE: {1}'.format(mean_squared_error(y_test, y_pred), np.sqrt(mean_squared_error(y_test, y_pred))))"
   ]
  },
  {
   "cell_type": "markdown",
   "metadata": {},
   "source": [
    "## Validation on Test Data\n",
    "\n",
    "- need to apply transformation \n",
    "- select the final cols "
   ]
  },
  {
   "cell_type": "code",
   "execution_count": null,
   "metadata": {},
   "outputs": [],
   "source": []
  },
  {
   "cell_type": "code",
   "execution_count": null,
   "metadata": {},
   "outputs": [],
   "source": []
  }
 ],
 "metadata": {
  "kernelspec": {
   "display_name": "Python 3",
   "language": "python",
   "name": "python3"
  },
  "language_info": {
   "codemirror_mode": {
    "name": "ipython",
    "version": 3
   },
   "file_extension": ".py",
   "mimetype": "text/x-python",
   "name": "python",
   "nbconvert_exporter": "python",
   "pygments_lexer": "ipython3",
   "version": "3.7.6"
  }
 },
 "nbformat": 4,
 "nbformat_minor": 4
}
