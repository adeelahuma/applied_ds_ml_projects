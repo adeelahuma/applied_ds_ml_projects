{
 "cells": [
  {
   "cell_type": "code",
   "execution_count": 1,
   "metadata": {},
   "outputs": [],
   "source": [
    "import pandas as pd\n",
    "import numpy as np\n",
    "import seaborn as sns\n",
    "import matplotlib.pyplot as plt\n",
    "\n",
    "from sklearn.model_selection import train_test_split\n",
    "from sklearn.preprocessing import StandardScaler\n",
    "from sklearn.metrics import make_scorer\n",
    "from sklearn.model_selection import cross_val_score\n",
    "from sklearn.linear_model import LinearRegression\n",
    "from sklearn.metrics import mean_squared_error\n",
    "from sklearn.metrics import r2_score \n"
   ]
  },
  {
   "cell_type": "code",
   "execution_count": 2,
   "metadata": {},
   "outputs": [
    {
     "data": {
      "text/plain": [
       "(1429, 85)"
      ]
     },
     "execution_count": 2,
     "metadata": {},
     "output_type": "execute_result"
    }
   ],
   "source": [
    "train = pd.read_pickle('data/train_catboost_data_06.pkl')\n",
    "train.shape"
   ]
  },
  {
   "cell_type": "code",
   "execution_count": 3,
   "metadata": {},
   "outputs": [
    {
     "data": {
      "text/plain": [
       "0"
      ]
     },
     "execution_count": 3,
     "metadata": {},
     "output_type": "execute_result"
    }
   ],
   "source": [
    "train.isnull().sum().sort_values(ascending=False).sum()"
   ]
  },
  {
   "cell_type": "code",
   "execution_count": 4,
   "metadata": {},
   "outputs": [],
   "source": [
    "y = train['SalePrice']"
   ]
  },
  {
   "cell_type": "code",
   "execution_count": 5,
   "metadata": {},
   "outputs": [
    {
     "data": {
      "text/plain": [
       "(67, 17)"
      ]
     },
     "execution_count": 5,
     "metadata": {},
     "output_type": "execute_result"
    }
   ],
   "source": [
    "cat_features = train.select_dtypes(include= 'category').columns\n",
    "num_features = train.select_dtypes(exclude ='category').columns\n",
    "num_features = num_features.drop('SalePrice')\n",
    "len(cat_features) , len(num_features)"
   ]
  },
  {
   "cell_type": "code",
   "execution_count": 6,
   "metadata": {},
   "outputs": [],
   "source": [
    "train_cat = train[cat_features]\n",
    "train_num = train[num_features]"
   ]
  },
  {
   "cell_type": "code",
   "execution_count": 7,
   "metadata": {},
   "outputs": [
    {
     "data": {
      "text/plain": [
       "(0, 0)"
      ]
     },
     "execution_count": 7,
     "metadata": {},
     "output_type": "execute_result"
    }
   ],
   "source": [
    "train_num.isnull().sum().sum() , train_cat.isnull().sum().sum()"
   ]
  },
  {
   "cell_type": "code",
   "execution_count": 8,
   "metadata": {},
   "outputs": [],
   "source": [
    "def get_one_hot_encoded_X(X, dummy_trap=True, delete_original_cat= True):\n",
    "    cat_cols = X.columns\n",
    "    \n",
    "    for col in cat_cols:\n",
    "        \n",
    "        temp = pd.get_dummies(X[col], prefix=col, dummy_na=False, drop_first=True)\n",
    "        X = X.join(temp)\n",
    "\n",
    "    if delete_original_cat:    \n",
    "        X = X.drop(cat_cols, axis =1)   \n",
    "        \n",
    "    return X  "
   ]
  },
  {
   "cell_type": "code",
   "execution_count": 9,
   "metadata": {},
   "outputs": [
    {
     "data": {
      "text/plain": [
       "(1429, 344)"
      ]
     },
     "execution_count": 9,
     "metadata": {},
     "output_type": "execute_result"
    }
   ],
   "source": [
    "train_cat = get_one_hot_encoded_X(train_cat, dummy_trap= True, delete_original_cat= True)\n",
    "train_cat.shape"
   ]
  },
  {
   "cell_type": "markdown",
   "metadata": {},
   "source": [
    "## Modeling"
   ]
  },
  {
   "cell_type": "code",
   "execution_count": 10,
   "metadata": {},
   "outputs": [
    {
     "data": {
      "text/plain": [
       "(1429, 361)"
      ]
     },
     "execution_count": 10,
     "metadata": {},
     "output_type": "execute_result"
    }
   ],
   "source": [
    "train = pd.concat([train_num, train_cat], axis =1)\n",
    "train.shape"
   ]
  },
  {
   "cell_type": "code",
   "execution_count": 11,
   "metadata": {},
   "outputs": [
    {
     "name": "stdout",
     "output_type": "stream",
     "text": [
      "X_train : (1000, 361)\n",
      "X_test : (429, 361)\n",
      "y_train : (1000,)\n",
      "y_test : (429,)\n"
     ]
    }
   ],
   "source": [
    "X_train, X_test, y_train, y_test = train_test_split(train, y, test_size=0.3, random_state=0 )\n",
    "print(\"X_train : \" + str(X_train.shape))\n",
    "print(\"X_test : \" + str(X_test.shape))\n",
    "print(\"y_train : \" + str(y_train.shape))\n",
    "print(\"y_test : \" + str(y_test.shape))"
   ]
  },
  {
   "cell_type": "code",
   "execution_count": 12,
   "metadata": {},
   "outputs": [],
   "source": [
    "## Standardized numerical features only \n",
    "\n",
    "sc = StandardScaler()"
   ]
  },
  {
   "cell_type": "code",
   "execution_count": 13,
   "metadata": {},
   "outputs": [
    {
     "name": "stderr",
     "output_type": "stream",
     "text": [
      "/Users/adeela/anaconda3/lib/python3.7/site-packages/pandas/core/indexing.py:966: SettingWithCopyWarning: \n",
      "A value is trying to be set on a copy of a slice from a DataFrame.\n",
      "Try using .loc[row_indexer,col_indexer] = value instead\n",
      "\n",
      "See the caveats in the documentation: https://pandas.pydata.org/pandas-docs/stable/user_guide/indexing.html#returning-a-view-versus-a-copy\n",
      "  self.obj[item] = s\n",
      "/Users/adeela/anaconda3/lib/python3.7/site-packages/pandas/core/indexing.py:966: SettingWithCopyWarning: \n",
      "A value is trying to be set on a copy of a slice from a DataFrame.\n",
      "Try using .loc[row_indexer,col_indexer] = value instead\n",
      "\n",
      "See the caveats in the documentation: https://pandas.pydata.org/pandas-docs/stable/user_guide/indexing.html#returning-a-view-versus-a-copy\n",
      "  self.obj[item] = s\n"
     ]
    }
   ],
   "source": [
    "\n",
    "X_train.loc[:, num_features] = sc.fit_transform(X_train.loc[:, num_features])\n",
    "\n",
    "X_test.loc[:, num_features] = sc.transform(X_test.loc[:, num_features])"
   ]
  },
  {
   "cell_type": "code",
   "execution_count": 14,
   "metadata": {},
   "outputs": [],
   "source": [
    "scorer = make_scorer(mean_squared_error, greater_is_better=False)"
   ]
  },
  {
   "cell_type": "code",
   "execution_count": 15,
   "metadata": {},
   "outputs": [],
   "source": [
    "def rmse_cv_train(model):\n",
    "    rmse = np.sqrt(-cross_val_score(model, X_train, y_train, scoring=scorer, cv=10))\n",
    "    return rmse"
   ]
  },
  {
   "cell_type": "code",
   "execution_count": 16,
   "metadata": {},
   "outputs": [],
   "source": [
    "def rmse_cv_test(model):\n",
    "    rmse = np.sqrt(-cross_val_score(model, X_test, y_test, scoring=scorer, cv=10))\n",
    "    return rmse"
   ]
  },
  {
   "cell_type": "markdown",
   "metadata": {},
   "source": [
    "## Linear Regression"
   ]
  },
  {
   "cell_type": "code",
   "execution_count": 17,
   "metadata": {},
   "outputs": [
    {
     "data": {
      "text/plain": [
       "LinearRegression(copy_X=True, fit_intercept=True, n_jobs=None, normalize=False)"
      ]
     },
     "execution_count": 17,
     "metadata": {},
     "output_type": "execute_result"
    }
   ],
   "source": [
    "lr = LinearRegression()\n",
    "lr.fit(X_train, y_train)"
   ]
  },
  {
   "cell_type": "code",
   "execution_count": 18,
   "metadata": {},
   "outputs": [
    {
     "name": "stdout",
     "output_type": "stream",
     "text": [
      "RMSE on Train: 2982778655.8396416\n",
      "RMSE on Test: 82779682141.95432\n"
     ]
    }
   ],
   "source": [
    "print('RMSE on Train: {}'.format(rmse_cv_train(lr).mean()))\n",
    "print('RMSE on Test: {}'.format(rmse_cv_test(lr).mean()))\n"
   ]
  },
  {
   "cell_type": "code",
   "execution_count": 19,
   "metadata": {},
   "outputs": [],
   "source": [
    "y_pred_train = lr.predict(X_train)\n",
    "y_pred_test = lr.predict(X_test)"
   ]
  },
  {
   "cell_type": "code",
   "execution_count": 20,
   "metadata": {},
   "outputs": [
    {
     "name": "stdout",
     "output_type": "stream",
     "text": [
      "R^2: -1.7373693173074287e+20\n"
     ]
    }
   ],
   "source": [
    "print('R^2: {}'.format(r2_score(y_test, y_pred_test)))"
   ]
  },
  {
   "cell_type": "markdown",
   "metadata": {},
   "source": [
    "### Residuals plot"
   ]
  },
  {
   "cell_type": "code",
   "execution_count": 21,
   "metadata": {},
   "outputs": [],
   "source": [
    "## PLOT RESIDUALS\n",
    "#residual = observed - predicted\n",
    "residual_train = y_pred_train - y_train\n",
    "residual_test = y_pred_test - y_test "
   ]
  },
  {
   "cell_type": "code",
   "execution_count": 22,
   "metadata": {},
   "outputs": [
    {
     "data": {
      "image/png": "[encoded data removed]",
      "text/plain": [
       "<Figure size 432x288 with 1 Axes>"
      ]
     },
     "metadata": {
      "needs_background": "light"
     },
     "output_type": "display_data"
    }
   ],
   "source": [
    "plt.scatter(y_pred_train, residual_train, label =\"Training Data\", marker='o', color='blue')\n",
    "plt.scatter(y_pred_test, residual_test, label =\"Test Data\", marker='o', color='green')\n",
    "plt.hlines(y = 0, xmin = 10.5, xmax = 13.5, color = \"red\")\n",
    "plt.xlabel('Predicted values')\n",
    "plt.ylabel('Residuals')\n",
    "plt.legend()\n",
    "plt.show()"
   ]
  },
  {
   "cell_type": "markdown",
   "metadata": {},
   "source": [
    "### Predictions plot"
   ]
  },
  {
   "cell_type": "code",
   "execution_count": 23,
   "metadata": {},
   "outputs": [
    {
     "data": {
      "image/png": "[encoded data removed]",
      "text/plain": [
       "<Figure size 432x288 with 1 Axes>"
      ]
     },
     "metadata": {
      "needs_background": "light"
     },
     "output_type": "display_data"
    }
   ],
   "source": [
    "plt.scatter(y_pred_train, y_train, label='Training Data')\n",
    "plt.scatter(y_pred_test, y_test, label='Test Data')\n",
    "plt.plot([10.5, 13.5], [10.5, 13.5], c = \"red\")\n",
    "plt.legend()\n",
    "plt.show()"
   ]
  },
  {
   "cell_type": "markdown",
   "metadata": {},
   "source": [
    "## Linear Regression with Ridge regularization (L2-penalty)"
   ]
  },
  {
   "cell_type": "code",
   "execution_count": 24,
   "metadata": {},
   "outputs": [],
   "source": [
    "from sklearn.linear_model import RidgeCV"
   ]
  },
  {
   "cell_type": "code",
   "execution_count": 25,
   "metadata": {},
   "outputs": [
    {
     "data": {
      "text/plain": [
       "array([ 0.01      ,  0.72357143,  1.43714286,  2.15071429,  2.86428571,\n",
       "        3.57785714,  4.29142857,  5.005     ,  5.71857143,  6.43214286,\n",
       "        7.14571429,  7.85928571,  8.57285714,  9.28642857, 10.        ])"
      ]
     },
     "execution_count": 25,
     "metadata": {},
     "output_type": "execute_result"
    }
   ],
   "source": [
    "alphas = np.linspace(0.01, 10, 15)\n",
    "alphas"
   ]
  },
  {
   "cell_type": "code",
   "execution_count": 26,
   "metadata": {},
   "outputs": [
    {
     "data": {
      "text/plain": [
       "RidgeCV(alphas=array([ 0.01      ,  0.72357143,  1.43714286,  2.15071429,  2.86428571,\n",
       "        3.57785714,  4.29142857,  5.005     ,  5.71857143,  6.43214286,\n",
       "        7.14571429,  7.85928571,  8.57285714,  9.28642857, 10.        ]),\n",
       "        cv=None, fit_intercept=True, gcv_mode=None, normalize=False,\n",
       "        scoring=None, store_cv_values=False)"
      ]
     },
     "execution_count": 26,
     "metadata": {},
     "output_type": "execute_result"
    }
   ],
   "source": [
    "ridge = RidgeCV(alphas)\n",
    "ridge.fit(X_train, y_train)"
   ]
  },
  {
   "cell_type": "code",
   "execution_count": 27,
   "metadata": {},
   "outputs": [
    {
     "name": "stdout",
     "output_type": "stream",
     "text": [
      "Best Alpha 5.718571428571429\n"
     ]
    },
    {
     "data": {
      "text/plain": [
       "array([ 2.85928571,  3.81238095,  4.76547619,  5.71857143,  6.67166667,\n",
       "        7.6247619 ,  8.57785714,  9.53095238, 10.48404762, 11.43714286])"
      ]
     },
     "execution_count": 27,
     "metadata": {},
     "output_type": "execute_result"
    }
   ],
   "source": [
    "print(\"Best Alpha {}\".format(ridge.alpha_))\n",
    "alphas = np.linspace(0.5,2, 10) *ridge.alpha_ \n",
    "alphas"
   ]
  },
  {
   "cell_type": "code",
   "execution_count": 28,
   "metadata": {},
   "outputs": [
    {
     "name": "stdout",
     "output_type": "stream",
     "text": [
      "Best Alpha 5.718571428571429\n"
     ]
    }
   ],
   "source": [
    "ridge = RidgeCV(alphas)\n",
    "ridge.fit(X_train, y_train)\n",
    "print(\"Best Alpha {}\".format(ridge.alpha_))"
   ]
  },
  {
   "cell_type": "code",
   "execution_count": 29,
   "metadata": {},
   "outputs": [
    {
     "name": "stdout",
     "output_type": "stream",
     "text": [
      "RMSE on Train: 0.1217133909469661\n",
      "RMSE on Test: 0.10786226620292187\n"
     ]
    }
   ],
   "source": [
    "print('RMSE on Train: {}'.format(rmse_cv_train(ridge).mean()))\n",
    "print('RMSE on Test: {}'.format(rmse_cv_test(ridge).mean()))\n",
    "\n"
   ]
  },
  {
   "cell_type": "code",
   "execution_count": 30,
   "metadata": {},
   "outputs": [
    {
     "name": "stdout",
     "output_type": "stream",
     "text": [
      "R^2: 0.906239080417491\n"
     ]
    }
   ],
   "source": [
    "y_pred_train = ridge.predict(X_train)\n",
    "y_pred_test = ridge.predict(X_test)\n",
    "print('R^2: {}'.format(r2_score(y_test, y_pred_test)))"
   ]
  },
  {
   "cell_type": "code",
   "execution_count": 31,
   "metadata": {},
   "outputs": [],
   "source": [
    "residual_train = y_pred_train - y_train\n",
    "residual_test = y_pred_test - y_test "
   ]
  },
  {
   "cell_type": "code",
   "execution_count": 32,
   "metadata": {},
   "outputs": [
    {
     "data": {
      "image/png": "[encoded data removed]",
      "text/plain": [
       "<Figure size 432x288 with 1 Axes>"
      ]
     },
     "metadata": {
      "needs_background": "light"
     },
     "output_type": "display_data"
    }
   ],
   "source": [
    "plt.scatter(y_pred_train, residual_train, label =\"Training Data\", marker='o', color='blue')\n",
    "plt.scatter(y_pred_test, residual_test, label =\"Test Data\", marker='o', color='green')\n",
    "plt.hlines(y = 0, xmin = 10.5, xmax = 13.5, color = \"red\")\n",
    "plt.xlabel('Predicted values')\n",
    "plt.ylabel('Residuals')\n",
    "plt.legend()\n",
    "plt.show()"
   ]
  },
  {
   "cell_type": "code",
   "execution_count": 33,
   "metadata": {},
   "outputs": [
    {
     "data": {
      "image/png": "[encoded data removed]",
      "text/plain": [
       "<Figure size 432x288 with 1 Axes>"
      ]
     },
     "metadata": {
      "needs_background": "light"
     },
     "output_type": "display_data"
    }
   ],
   "source": [
    "plt.scatter(y_pred_train, y_train, label='Training Data')\n",
    "plt.scatter(y_pred_test, y_test, label='Test Data')\n",
    "plt.plot([10.5, 13.5], [10.5, 13.5], c = \"red\")\n",
    "plt.legend()\n",
    "plt.show()"
   ]
  },
  {
   "cell_type": "code",
   "execution_count": 34,
   "metadata": {},
   "outputs": [],
   "source": [
    "coef = pd.Series(ridge.coef_ , index= X_train.columns)"
   ]
  },
  {
   "cell_type": "code",
   "execution_count": 35,
   "metadata": {},
   "outputs": [
    {
     "data": {
      "text/plain": [
       "361"
      ]
     },
     "execution_count": 35,
     "metadata": {},
     "output_type": "execute_result"
    }
   ],
   "source": [
    "len(coef)"
   ]
  },
  {
   "cell_type": "code",
   "execution_count": 36,
   "metadata": {},
   "outputs": [
    {
     "name": "stdout",
     "output_type": "stream",
     "text": [
      "Ridge picked 327 columns\n",
      "Ridge dropped 34 columns\n"
     ]
    }
   ],
   "source": [
    "print(\"Ridge picked {} columns\".format(sum(coef != 0)))\n",
    "print(\"Ridge dropped {} columns\".format(sum(coef == 0))) "
   ]
  },
  {
   "cell_type": "code",
   "execution_count": 37,
   "metadata": {},
   "outputs": [],
   "source": [
    "coef= coef.sort_values()"
   ]
  },
  {
   "cell_type": "code",
   "execution_count": 38,
   "metadata": {},
   "outputs": [
    {
     "data": {
      "text/plain": [
       "MSZoning_C (all)        -0.196745\n",
       "OverallCond_3           -0.138588\n",
       "OverallQual_3           -0.087991\n",
       "Functional_Maj2         -0.081849\n",
       "SaleCondition_Abnorml   -0.079597\n",
       "Neighborhood_MeadowV    -0.078642\n",
       "OverallCond_4           -0.070716\n",
       "Neighborhood_Edwards    -0.062803\n",
       "TotRmsAbvGrd_11         -0.061059\n",
       "Heating_Grav            -0.059835\n",
       "dtype: float64"
      ]
     },
     "execution_count": 38,
     "metadata": {},
     "output_type": "execute_result"
    }
   ],
   "source": [
    "coef.head(10)"
   ]
  },
  {
   "cell_type": "code",
   "execution_count": 39,
   "metadata": {},
   "outputs": [
    {
     "data": {
      "text/plain": [
       "OverallCond_8           0.067488\n",
       "Condition1_Norm         0.071624\n",
       "MSZoning_RH             0.072223\n",
       "MSZoning_FV             0.073365\n",
       "Neighborhood_Crawfor    0.083447\n",
       "OverallCond_9           0.085449\n",
       "CentralAir_Y            0.088053\n",
       "Neighborhood_StoneBr    0.090415\n",
       "OverallQual_9           0.099179\n",
       "GrLivArea               0.128076\n",
       "dtype: float64"
      ]
     },
     "execution_count": 39,
     "metadata": {},
     "output_type": "execute_result"
    }
   ],
   "source": [
    "coef.tail(10)"
   ]
  },
  {
   "cell_type": "code",
   "execution_count": 40,
   "metadata": {},
   "outputs": [],
   "source": [
    "imp_coef = pd.concat([coef.head(10), \n",
    "         coef.tail(10)])"
   ]
  },
  {
   "cell_type": "code",
   "execution_count": 41,
   "metadata": {},
   "outputs": [
    {
     "data": {
      "text/plain": [
       "<matplotlib.axes._subplots.AxesSubplot at 0x7f8c1670da90>"
      ]
     },
     "execution_count": 41,
     "metadata": {},
     "output_type": "execute_result"
    },
    {
     "data": {
      "image/png": "[encoded data removed]",
      "text/plain": [
       "<Figure size 432x288 with 1 Axes>"
      ]
     },
     "metadata": {
      "needs_background": "light"
     },
     "output_type": "display_data"
    }
   ],
   "source": [
    "imp_coef.plot(kind='barh')"
   ]
  },
  {
   "cell_type": "markdown",
   "metadata": {},
   "source": [
    "## Linear Regression with Lasso regularization (L1-penalty)"
   ]
  },
  {
   "cell_type": "code",
   "execution_count": 42,
   "metadata": {},
   "outputs": [],
   "source": [
    "from sklearn.linear_model import LassoCV"
   ]
  },
  {
   "cell_type": "code",
   "execution_count": 43,
   "metadata": {},
   "outputs": [
    {
     "data": {
      "text/plain": [
       "LassoCV(alphas=array([ 0.01      ,  0.72357143,  1.43714286,  2.15071429,  2.86428571,\n",
       "        3.57785714,  4.29142857,  5.005     ,  5.71857143,  6.43214286,\n",
       "        7.14571429,  7.85928571,  8.57285714,  9.28642857, 10.        ]),\n",
       "        copy_X=True, cv=10, eps=0.001, fit_intercept=True, max_iter=50000,\n",
       "        n_alphas=100, n_jobs=None, normalize=False, positive=False,\n",
       "        precompute='auto', random_state=True, selection='cyclic', tol=0.0001,\n",
       "        verbose=False)"
      ]
     },
     "execution_count": 43,
     "metadata": {},
     "output_type": "execute_result"
    }
   ],
   "source": [
    "alphas = np.linspace(0.01, 10, 15)\n",
    "\n",
    "lasso = LassoCV(alphas=alphas, max_iter=50000, cv=10, random_state=True)\n",
    "\n",
    "lasso.fit(X_train, y_train)"
   ]
  },
  {
   "cell_type": "code",
   "execution_count": 44,
   "metadata": {},
   "outputs": [
    {
     "name": "stdout",
     "output_type": "stream",
     "text": [
      "Best Alpha 0.01\n"
     ]
    }
   ],
   "source": [
    "print(\"Best Alpha {}\".format(lasso.alpha_))"
   ]
  },
  {
   "cell_type": "code",
   "execution_count": 45,
   "metadata": {},
   "outputs": [
    {
     "data": {
      "text/plain": [
       "array([1.00000000e-05, 1.52142857e-04, 2.94285714e-04, 4.36428571e-04,\n",
       "       5.78571429e-04, 7.20714286e-04, 8.62857143e-04, 1.00500000e-03,\n",
       "       1.14714286e-03, 1.28928571e-03, 1.43142857e-03, 1.57357143e-03,\n",
       "       1.71571429e-03, 1.85785714e-03, 2.00000000e-03])"
      ]
     },
     "execution_count": 45,
     "metadata": {},
     "output_type": "execute_result"
    }
   ],
   "source": [
    "alphas = np.linspace(0.001, 0.2, 15) * lasso.alpha_\n",
    "alphas"
   ]
  },
  {
   "cell_type": "code",
   "execution_count": 46,
   "metadata": {},
   "outputs": [
    {
     "data": {
      "text/plain": [
       "LassoCV(alphas=array([1.00000000e-05, 1.52142857e-04, 2.94285714e-04, 4.36428571e-04,\n",
       "       5.78571429e-04, 7.20714286e-04, 8.62857143e-04, 1.00500000e-03,\n",
       "       1.14714286e-03, 1.28928571e-03, 1.43142857e-03, 1.57357143e-03,\n",
       "       1.71571429e-03, 1.85785714e-03, 2.00000000e-03]),\n",
       "        copy_X=True, cv=10, eps=0.001, fit_intercept=True, max_iter=50000,\n",
       "        n_alphas=100, n_jobs=None, normalize=False, positive=False,\n",
       "        precompute='auto', random_state=True, selection='cyclic', tol=0.0001,\n",
       "        verbose=False)"
      ]
     },
     "execution_count": 46,
     "metadata": {},
     "output_type": "execute_result"
    }
   ],
   "source": [
    "lasso = LassoCV(alphas=alphas, max_iter=50000, cv=10, random_state=True)\n",
    "\n",
    "lasso.fit(X_train, y_train)"
   ]
  },
  {
   "cell_type": "code",
   "execution_count": 47,
   "metadata": {},
   "outputs": [
    {
     "name": "stdout",
     "output_type": "stream",
     "text": [
      "Best Alpha 0.0004364285714285715\n"
     ]
    }
   ],
   "source": [
    "print(\"Best Alpha {}\".format(lasso.alpha_))"
   ]
  },
  {
   "cell_type": "code",
   "execution_count": 48,
   "metadata": {},
   "outputs": [
    {
     "name": "stdout",
     "output_type": "stream",
     "text": [
      "RMSE on Train: 0.12108834686319365\n",
      "RMSE on Test: 0.1065081489849012\n"
     ]
    }
   ],
   "source": [
    "print('RMSE on Train: {}'.format(rmse_cv_train(lasso).mean()))\n",
    "print('RMSE on Test: {}'.format(rmse_cv_test(lasso).mean()))\n"
   ]
  },
  {
   "cell_type": "code",
   "execution_count": 49,
   "metadata": {},
   "outputs": [
    {
     "name": "stdout",
     "output_type": "stream",
     "text": [
      "R^2: 0.9059914386237113\n"
     ]
    }
   ],
   "source": [
    "y_pred_train = lasso.predict(X_train)\n",
    "y_pred_test = lasso.predict(X_test)\n",
    "print('R^2: {}'.format(r2_score(y_test, y_pred_test)))"
   ]
  },
  {
   "cell_type": "code",
   "execution_count": 50,
   "metadata": {},
   "outputs": [],
   "source": [
    "residual_train = y_pred_train - y_train\n",
    "residual_test = y_pred_test - y_test "
   ]
  },
  {
   "cell_type": "code",
   "execution_count": 51,
   "metadata": {},
   "outputs": [
    {
     "data": {
      "image/png": "[encoded data removed]",
      "text/plain": [
       "<Figure size 432x288 with 1 Axes>"
      ]
     },
     "metadata": {
      "needs_background": "light"
     },
     "output_type": "display_data"
    }
   ],
   "source": [
    "plt.scatter(y_pred_train, residual_train, label =\"Training Data\", marker='o', color='blue')\n",
    "plt.scatter(y_pred_test, residual_test, label =\"Test Data\", marker='o', color='green')\n",
    "plt.hlines(y = 0, xmin = 10.5, xmax = 13.5, color = \"red\")\n",
    "plt.xlabel('Predicted values')\n",
    "plt.ylabel('Residuals')\n",
    "plt.legend()\n",
    "plt.show()"
   ]
  },
  {
   "cell_type": "code",
   "execution_count": 52,
   "metadata": {},
   "outputs": [
    {
     "data": {
      "image/png": "[encoded data removed]",
      "text/plain": [
       "<Figure size 432x288 with 1 Axes>"
      ]
     },
     "metadata": {
      "needs_background": "light"
     },
     "output_type": "display_data"
    }
   ],
   "source": [
    "plt.scatter(y_pred_train, y_train, label='Training Data')\n",
    "plt.scatter(y_pred_test, y_test, label='Test Data')\n",
    "plt.plot([10.5, 13.5], [10.5, 13.5], c = \"red\")\n",
    "plt.legend()\n",
    "plt.show()"
   ]
  },
  {
   "cell_type": "code",
   "execution_count": 53,
   "metadata": {},
   "outputs": [],
   "source": [
    "coef = pd.Series(lasso.coef_ , index= X_train.columns)"
   ]
  },
  {
   "cell_type": "code",
   "execution_count": 54,
   "metadata": {},
   "outputs": [
    {
     "name": "stdout",
     "output_type": "stream",
     "text": [
      "Lasso picked 144 columns\n",
      "Lasso dropped 217 columns\n"
     ]
    }
   ],
   "source": [
    "print(\"Lasso picked {} columns\".format(sum(coef != 0)))\n",
    "print(\"Lasso dropped {} columns\".format(sum(coef == 0))) "
   ]
  },
  {
   "cell_type": "code",
   "execution_count": 55,
   "metadata": {},
   "outputs": [],
   "source": [
    "coef= coef.sort_values()"
   ]
  },
  {
   "cell_type": "code",
   "execution_count": 56,
   "metadata": {},
   "outputs": [
    {
     "data": {
      "text/plain": [
       "<matplotlib.axes._subplots.AxesSubplot at 0x7f8c1b43e0d0>"
      ]
     },
     "execution_count": 56,
     "metadata": {},
     "output_type": "execute_result"
    },
    {
     "data": {
      "image/png": "[encoded data removed]",
      "text/plain": [
       "<Figure size 432x288 with 1 Axes>"
      ]
     },
     "metadata": {
      "needs_background": "light"
     },
     "output_type": "display_data"
    }
   ],
   "source": [
    "imp_coef = pd.concat([coef.head(10), \n",
    "         coef.tail(10)])\n",
    "imp_coef.plot(kind='barh')"
   ]
  },
  {
   "cell_type": "code",
   "execution_count": null,
   "metadata": {},
   "outputs": [],
   "source": []
  },
  {
   "cell_type": "code",
   "execution_count": 57,
   "metadata": {},
   "outputs": [
    {
     "data": {
      "text/html": [
       "<div>\n",
       "<style scoped>\n",
       "    .dataframe tbody tr th:only-of-type {\n",
       "        vertical-align: middle;\n",
       "    }\n",
       "\n",
       "    .dataframe tbody tr th {\n",
       "        vertical-align: top;\n",
       "    }\n",
       "\n",
       "    .dataframe thead th {\n",
       "        text-align: right;\n",
       "    }\n",
       "</style>\n",
       "<table border=\"1\" class=\"dataframe\">\n",
       "  <thead>\n",
       "    <tr style=\"text-align: right;\">\n",
       "      <th></th>\n",
       "      <th>0</th>\n",
       "    </tr>\n",
       "  </thead>\n",
       "  <tbody>\n",
       "    <tr>\n",
       "      <th>MSZoning_C (all)</th>\n",
       "      <td>-0.416235</td>\n",
       "    </tr>\n",
       "    <tr>\n",
       "      <th>OverallCond_3</th>\n",
       "      <td>-0.199430</td>\n",
       "    </tr>\n",
       "    <tr>\n",
       "      <th>Functional_Maj2</th>\n",
       "      <td>-0.095893</td>\n",
       "    </tr>\n",
       "    <tr>\n",
       "      <th>OverallCond_4</th>\n",
       "      <td>-0.094819</td>\n",
       "    </tr>\n",
       "    <tr>\n",
       "      <th>Neighborhood_MeadowV</th>\n",
       "      <td>-0.094251</td>\n",
       "    </tr>\n",
       "    <tr>\n",
       "      <th>...</th>\n",
       "      <td>...</td>\n",
       "    </tr>\n",
       "    <tr>\n",
       "      <th>OverallQual_8</th>\n",
       "      <td>0.084029</td>\n",
       "    </tr>\n",
       "    <tr>\n",
       "      <th>CentralAir_Y</th>\n",
       "      <td>0.090475</td>\n",
       "    </tr>\n",
       "    <tr>\n",
       "      <th>Neighborhood_Crawfor</th>\n",
       "      <td>0.091745</td>\n",
       "    </tr>\n",
       "    <tr>\n",
       "      <th>GrLivArea</th>\n",
       "      <td>0.124277</td>\n",
       "    </tr>\n",
       "    <tr>\n",
       "      <th>OverallQual_9</th>\n",
       "      <td>0.140492</td>\n",
       "    </tr>\n",
       "  </tbody>\n",
       "</table>\n",
       "<p>144 rows × 1 columns</p>\n",
       "</div>"
      ],
      "text/plain": [
       "                             0\n",
       "MSZoning_C (all)     -0.416235\n",
       "OverallCond_3        -0.199430\n",
       "Functional_Maj2      -0.095893\n",
       "OverallCond_4        -0.094819\n",
       "Neighborhood_MeadowV -0.094251\n",
       "...                        ...\n",
       "OverallQual_8         0.084029\n",
       "CentralAir_Y          0.090475\n",
       "Neighborhood_Crawfor  0.091745\n",
       "GrLivArea             0.124277\n",
       "OverallQual_9         0.140492\n",
       "\n",
       "[144 rows x 1 columns]"
      ]
     },
     "execution_count": 57,
     "metadata": {},
     "output_type": "execute_result"
    }
   ],
   "source": [
    "picked_coef_lasso = pd.DataFrame(coef[coef !=0])\n",
    "picked_coef_lasso"
   ]
  },
  {
   "cell_type": "code",
   "execution_count": 58,
   "metadata": {},
   "outputs": [],
   "source": [
    "lasso_cols = picked_coef_lasso.index.tolist()\n",
    "pd.to_pickle(lasso_cols, 'data/lasso_cols_06.pkl')"
   ]
  },
  {
   "cell_type": "markdown",
   "metadata": {},
   "source": [
    "## Validate on Test data"
   ]
  },
  {
   "cell_type": "code",
   "execution_count": 59,
   "metadata": {},
   "outputs": [
    {
     "data": {
      "text/plain": [
       "(1459, 85)"
      ]
     },
     "execution_count": 59,
     "metadata": {},
     "output_type": "execute_result"
    }
   ],
   "source": [
    "test_data = pd.read_pickle('data/test_catboost_data_06.pkl')\n",
    "test_data.shape"
   ]
  },
  {
   "cell_type": "code",
   "execution_count": 60,
   "metadata": {},
   "outputs": [],
   "source": [
    "Id = test_data['Id']"
   ]
  },
  {
   "cell_type": "code",
   "execution_count": 61,
   "metadata": {},
   "outputs": [
    {
     "data": {
      "text/plain": [
       "(1459, 84)"
      ]
     },
     "execution_count": 61,
     "metadata": {},
     "output_type": "execute_result"
    }
   ],
   "source": [
    "X = test_data.iloc[:, :-1]\n",
    "X.shape"
   ]
  },
  {
   "cell_type": "code",
   "execution_count": 62,
   "metadata": {},
   "outputs": [
    {
     "data": {
      "text/plain": [
       "(1459, 17)"
      ]
     },
     "execution_count": 62,
     "metadata": {},
     "output_type": "execute_result"
    }
   ],
   "source": [
    "test_num = X.loc[:, num_features]\n",
    "test_num.shape"
   ]
  },
  {
   "cell_type": "code",
   "execution_count": 63,
   "metadata": {},
   "outputs": [
    {
     "data": {
      "text/plain": [
       "(1459, 344)"
      ]
     },
     "execution_count": 63,
     "metadata": {},
     "output_type": "execute_result"
    }
   ],
   "source": [
    "test_cat = get_one_hot_encoded_X(X.loc[:, cat_features], dummy_trap= True, delete_original_cat= True)\n",
    "test_cat.shape"
   ]
  },
  {
   "cell_type": "code",
   "execution_count": 64,
   "metadata": {},
   "outputs": [
    {
     "data": {
      "text/plain": [
       "(1459, 361)"
      ]
     },
     "execution_count": 64,
     "metadata": {},
     "output_type": "execute_result"
    }
   ],
   "source": [
    "test = pd.concat([test_num, test_cat], axis=1)\n",
    "test.shape"
   ]
  },
  {
   "cell_type": "code",
   "execution_count": 65,
   "metadata": {},
   "outputs": [],
   "source": [
    "test.loc[:, num_features] = sc.transform(test.loc[:, num_features])"
   ]
  },
  {
   "cell_type": "code",
   "execution_count": 66,
   "metadata": {},
   "outputs": [
    {
     "data": {
      "text/plain": [
       "(1459, 361)"
      ]
     },
     "execution_count": 66,
     "metadata": {},
     "output_type": "execute_result"
    }
   ],
   "source": [
    "test.shape"
   ]
  },
  {
   "cell_type": "code",
   "execution_count": 67,
   "metadata": {},
   "outputs": [],
   "source": [
    "y_hat_test = lasso.predict(test)"
   ]
  },
  {
   "cell_type": "code",
   "execution_count": 68,
   "metadata": {},
   "outputs": [
    {
     "data": {
      "text/html": [
       "<div>\n",
       "<style scoped>\n",
       "    .dataframe tbody tr th:only-of-type {\n",
       "        vertical-align: middle;\n",
       "    }\n",
       "\n",
       "    .dataframe tbody tr th {\n",
       "        vertical-align: top;\n",
       "    }\n",
       "\n",
       "    .dataframe thead th {\n",
       "        text-align: right;\n",
       "    }\n",
       "</style>\n",
       "<table border=\"1\" class=\"dataframe\">\n",
       "  <thead>\n",
       "    <tr style=\"text-align: right;\">\n",
       "      <th></th>\n",
       "      <th>Id</th>\n",
       "      <th>SalePrice</th>\n",
       "    </tr>\n",
       "  </thead>\n",
       "  <tbody>\n",
       "    <tr>\n",
       "      <th>0</th>\n",
       "      <td>1461</td>\n",
       "      <td>11.697568</td>\n",
       "    </tr>\n",
       "    <tr>\n",
       "      <th>1</th>\n",
       "      <td>1462</td>\n",
       "      <td>11.983157</td>\n",
       "    </tr>\n",
       "    <tr>\n",
       "      <th>2</th>\n",
       "      <td>1463</td>\n",
       "      <td>12.133197</td>\n",
       "    </tr>\n",
       "    <tr>\n",
       "      <th>3</th>\n",
       "      <td>1464</td>\n",
       "      <td>12.206538</td>\n",
       "    </tr>\n",
       "    <tr>\n",
       "      <th>4</th>\n",
       "      <td>1465</td>\n",
       "      <td>12.135464</td>\n",
       "    </tr>\n",
       "  </tbody>\n",
       "</table>\n",
       "</div>"
      ],
      "text/plain": [
       "     Id  SalePrice\n",
       "0  1461  11.697568\n",
       "1  1462  11.983157\n",
       "2  1463  12.133197\n",
       "3  1464  12.206538\n",
       "4  1465  12.135464"
      ]
     },
     "execution_count": 68,
     "metadata": {},
     "output_type": "execute_result"
    }
   ],
   "source": [
    "submission = pd.DataFrame({'Id': Id, \n",
    "             'SalePrice': y_hat_test})\n",
    "submission.head()"
   ]
  },
  {
   "cell_type": "code",
   "execution_count": 69,
   "metadata": {},
   "outputs": [],
   "source": [
    "submission.to_csv('data/ah_submission_5.csv', index=False)"
   ]
  }
 ],
 "metadata": {
  "kernelspec": {
   "display_name": "Python 3",
   "language": "python",
   "name": "python3"
  },
  "language_info": {
   "codemirror_mode": {
    "name": "ipython",
    "version": 3
   },
   "file_extension": ".py",
   "mimetype": "text/x-python",
   "name": "python",
   "nbconvert_exporter": "python",
   "pygments_lexer": "ipython3",
   "version": "3.7.6"
  }
 },
 "nbformat": 4,
 "nbformat_minor": 4
}
