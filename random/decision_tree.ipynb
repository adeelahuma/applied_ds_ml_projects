{
 "cells": [
  {
   "cell_type": "code",
   "execution_count": 1,
   "metadata": {},
   "outputs": [],
   "source": [
    "import pandas as pd\n",
    "import numpy as np\n",
    "from sklearn.datasets import load_iris\n",
    "from sklearn.model_selection import train_test_split"
   ]
  },
  {
   "cell_type": "code",
   "execution_count": 2,
   "metadata": {},
   "outputs": [
    {
     "data": {
      "text/html": [
       "<div>\n",
       "<style scoped>\n",
       "    .dataframe tbody tr th:only-of-type {\n",
       "        vertical-align: middle;\n",
       "    }\n",
       "\n",
       "    .dataframe tbody tr th {\n",
       "        vertical-align: top;\n",
       "    }\n",
       "\n",
       "    .dataframe thead th {\n",
       "        text-align: right;\n",
       "    }\n",
       "</style>\n",
       "<table border=\"1\" class=\"dataframe\">\n",
       "  <thead>\n",
       "    <tr style=\"text-align: right;\">\n",
       "      <th></th>\n",
       "      <th>home_owner</th>\n",
       "      <th>marital_status</th>\n",
       "      <th>annual_income</th>\n",
       "      <th>default</th>\n",
       "    </tr>\n",
       "  </thead>\n",
       "  <tbody>\n",
       "    <tr>\n",
       "      <th>0</th>\n",
       "      <td>yes</td>\n",
       "      <td>Single</td>\n",
       "      <td>125</td>\n",
       "      <td>no</td>\n",
       "    </tr>\n",
       "    <tr>\n",
       "      <th>1</th>\n",
       "      <td>no</td>\n",
       "      <td>Married</td>\n",
       "      <td>100</td>\n",
       "      <td>no</td>\n",
       "    </tr>\n",
       "    <tr>\n",
       "      <th>2</th>\n",
       "      <td>no</td>\n",
       "      <td>Single</td>\n",
       "      <td>70</td>\n",
       "      <td>no</td>\n",
       "    </tr>\n",
       "    <tr>\n",
       "      <th>3</th>\n",
       "      <td>yes</td>\n",
       "      <td>Married</td>\n",
       "      <td>120</td>\n",
       "      <td>no</td>\n",
       "    </tr>\n",
       "    <tr>\n",
       "      <th>4</th>\n",
       "      <td>no</td>\n",
       "      <td>Married</td>\n",
       "      <td>95</td>\n",
       "      <td>yes</td>\n",
       "    </tr>\n",
       "    <tr>\n",
       "      <th>5</th>\n",
       "      <td>no</td>\n",
       "      <td>Married</td>\n",
       "      <td>60</td>\n",
       "      <td>no</td>\n",
       "    </tr>\n",
       "    <tr>\n",
       "      <th>6</th>\n",
       "      <td>yes</td>\n",
       "      <td>Married</td>\n",
       "      <td>220</td>\n",
       "      <td>no</td>\n",
       "    </tr>\n",
       "    <tr>\n",
       "      <th>7</th>\n",
       "      <td>no</td>\n",
       "      <td>Single</td>\n",
       "      <td>85</td>\n",
       "      <td>yes</td>\n",
       "    </tr>\n",
       "    <tr>\n",
       "      <th>8</th>\n",
       "      <td>no</td>\n",
       "      <td>Married</td>\n",
       "      <td>75</td>\n",
       "      <td>no</td>\n",
       "    </tr>\n",
       "    <tr>\n",
       "      <th>9</th>\n",
       "      <td>no</td>\n",
       "      <td>Single</td>\n",
       "      <td>90</td>\n",
       "      <td>yes</td>\n",
       "    </tr>\n",
       "  </tbody>\n",
       "</table>\n",
       "</div>"
      ],
      "text/plain": [
       "  home_owner marital_status  annual_income default\n",
       "0        yes         Single            125      no\n",
       "1         no        Married            100      no\n",
       "2         no         Single             70      no\n",
       "3        yes        Married            120      no\n",
       "4         no        Married             95     yes\n",
       "5         no        Married             60      no\n",
       "6        yes        Married            220      no\n",
       "7         no         Single             85     yes\n",
       "8         no        Married             75      no\n",
       "9         no         Single             90     yes"
      ]
     },
     "execution_count": 2,
     "metadata": {},
     "output_type": "execute_result"
    }
   ],
   "source": [
    "training_data = {\n",
    "                'home_owner': ['yes', 'no', 'no', 'yes', 'no', 'no', 'yes', 'no', 'no', 'no'], \n",
    "                'marital_status': ['Single', 'Married', 'Single', 'Married', 'Married', 'Married', 'Married', 'Single', \n",
    "                                  'Married', 'Single'],\n",
    "                 'annual_income' : [125, 100, 70, 120, 95, 60, 220, 85, 75, 90],\n",
    "                'default': ['no', 'no', 'no', 'no', 'yes', 'no', 'no', 'yes', 'no', 'yes']\n",
    "                }\n",
    "df = pd.DataFrame(training_data)\n",
    "df['annual_income'] = df['annual_income'].astype(int)\n",
    "df"
   ]
  },
  {
   "cell_type": "code",
   "execution_count": 3,
   "metadata": {},
   "outputs": [
    {
     "data": {
      "text/plain": [
       "(True, False, True)"
      ]
     },
     "execution_count": 3,
     "metadata": {},
     "output_type": "execute_result"
    }
   ],
   "source": [
    "def is_numeric(value):\n",
    "    return isinstance(value, int) or isinstance(value, float) or isinstance(value, np.int64)\n",
    "\n",
    "is_numeric(1), is_numeric('hello'), is_numeric(1.0)"
   ]
  },
  {
   "cell_type": "code",
   "execution_count": 4,
   "metadata": {},
   "outputs": [
    {
     "name": "stdout",
     "output_type": "stream",
     "text": [
      "False ==  False\n",
      "True ==  True\n",
      "annual_income <= 80\n",
      "True ==  True\n",
      "False ==  False\n",
      "marital_status == Single\n"
     ]
    }
   ],
   "source": [
    "class Question:\n",
    "    def __init__(self, col_name, col_value):\n",
    "        self.col_name = col_name\n",
    "        self.col_value = col_value\n",
    "        \n",
    "    def match(self, row):\n",
    "        new_col_val = row[self.col_name]\n",
    "#         print(new_col_val)\n",
    "        if is_numeric(new_col_val):\n",
    "            return new_col_val <= self.col_value\n",
    "        else:\n",
    "            return new_col_val == self.col_value\n",
    "        \n",
    "    def to_string(self):   \n",
    "        question_str = (self.col_name + \" <= \" + str(self.col_value)) if is_numeric(self.col_value)  else (self.col_name + \" == \" + self.col_value)\n",
    "        return question_str\n",
    "        \n",
    "        \n",
    "income = Question('annual_income', 80) \n",
    "print('False == ', income.match(df.iloc[0]))\n",
    "print('True == ', income.match(df.iloc[2]))\n",
    "print(income.to_string())\n",
    "marital_status = Question('marital_status', 'Single') \n",
    "print('True == ', marital_status.match(df.iloc[0]))\n",
    "print('False == ', marital_status.match(df.iloc[1]))\n",
    "print(marital_status.to_string())"
   ]
  },
  {
   "cell_type": "code",
   "execution_count": 5,
   "metadata": {},
   "outputs": [
    {
     "name": "stdout",
     "output_type": "stream",
     "text": [
      "  home_owner marital_status  annual_income default\n",
      "2         no         Single             70      no\n",
      "5         no        Married             60      no\n",
      "8         no        Married             75      no\n"
     ]
    },
    {
     "data": {
      "text/html": [
       "<div>\n",
       "<style scoped>\n",
       "    .dataframe tbody tr th:only-of-type {\n",
       "        vertical-align: middle;\n",
       "    }\n",
       "\n",
       "    .dataframe tbody tr th {\n",
       "        vertical-align: top;\n",
       "    }\n",
       "\n",
       "    .dataframe thead th {\n",
       "        text-align: right;\n",
       "    }\n",
       "</style>\n",
       "<table border=\"1\" class=\"dataframe\">\n",
       "  <thead>\n",
       "    <tr style=\"text-align: right;\">\n",
       "      <th></th>\n",
       "      <th>home_owner</th>\n",
       "      <th>marital_status</th>\n",
       "      <th>annual_income</th>\n",
       "      <th>default</th>\n",
       "    </tr>\n",
       "  </thead>\n",
       "  <tbody>\n",
       "    <tr>\n",
       "      <th>0</th>\n",
       "      <td>yes</td>\n",
       "      <td>Single</td>\n",
       "      <td>125</td>\n",
       "      <td>no</td>\n",
       "    </tr>\n",
       "    <tr>\n",
       "      <th>1</th>\n",
       "      <td>no</td>\n",
       "      <td>Married</td>\n",
       "      <td>100</td>\n",
       "      <td>no</td>\n",
       "    </tr>\n",
       "    <tr>\n",
       "      <th>3</th>\n",
       "      <td>yes</td>\n",
       "      <td>Married</td>\n",
       "      <td>120</td>\n",
       "      <td>no</td>\n",
       "    </tr>\n",
       "    <tr>\n",
       "      <th>4</th>\n",
       "      <td>no</td>\n",
       "      <td>Married</td>\n",
       "      <td>95</td>\n",
       "      <td>yes</td>\n",
       "    </tr>\n",
       "    <tr>\n",
       "      <th>6</th>\n",
       "      <td>yes</td>\n",
       "      <td>Married</td>\n",
       "      <td>220</td>\n",
       "      <td>no</td>\n",
       "    </tr>\n",
       "    <tr>\n",
       "      <th>7</th>\n",
       "      <td>no</td>\n",
       "      <td>Single</td>\n",
       "      <td>85</td>\n",
       "      <td>yes</td>\n",
       "    </tr>\n",
       "    <tr>\n",
       "      <th>9</th>\n",
       "      <td>no</td>\n",
       "      <td>Single</td>\n",
       "      <td>90</td>\n",
       "      <td>yes</td>\n",
       "    </tr>\n",
       "  </tbody>\n",
       "</table>\n",
       "</div>"
      ],
      "text/plain": [
       "  home_owner marital_status  annual_income default\n",
       "0        yes         Single            125      no\n",
       "1         no        Married            100      no\n",
       "3        yes        Married            120      no\n",
       "4         no        Married             95     yes\n",
       "6        yes        Married            220      no\n",
       "7         no         Single             85     yes\n",
       "9         no         Single             90     yes"
      ]
     },
     "execution_count": 5,
     "metadata": {},
     "output_type": "execute_result"
    }
   ],
   "source": [
    "'''\n",
    "Partition the data based on test condition given as question\n",
    "'''\n",
    "def partition(rows, question):\n",
    "\n",
    "    true_rows, false_rows = [], []\n",
    "        \n",
    "    for i in range(0, len(rows)):\n",
    "        row = df.iloc[i]\n",
    "\n",
    "        if question.match(row):\n",
    "            true_rows.append(row)\n",
    "        else:\n",
    "            false_rows.append(row)\n",
    "            \n",
    "    return(true_rows, false_rows)   \n",
    "\n",
    "## Test Case \n",
    "true_rows, false_rows = partition(df, income)\n",
    "\n",
    "print(pd.DataFrame(true_rows))\n",
    "pd.DataFrame(false_rows)"
   ]
  },
  {
   "cell_type": "code",
   "execution_count": 6,
   "metadata": {},
   "outputs": [],
   "source": [
    "\n",
    "    '''\n",
    "        gini = 1 - frequency(class_0)^2 - frequency(class_1)^2\n",
    "        \n",
    "        gini values are between 0 and 1; \n",
    "            >> 0 means all records belong to the same class [This is the desired]        \n",
    "\n",
    "        Assumptions: \n",
    "            >> method assumes that label default is the target and has values 'yes | no'     \n",
    "            \n",
    "    '''\n",
    "    def gini_index(df):\n",
    "        gini = 0\n",
    "        \n",
    "        total_records = len(df)\n",
    "\n",
    "        if total_records > 0:\n",
    "            records_class_0 = len (df[df['default'] == 'no'])\n",
    "            records_class_1 =len (df[df['default'] == 'yes'])\n",
    "\n",
    "            gini = 1 - (records_class_0/total_records)**2 - (records_class_1/total_records)**2\n",
    "        \n",
    "        return gini\n",
    "    \n",
    "    \n",
    "    '''\n",
    "        Determine Quality of Split based on gini \n",
    "        Assumptions: \n",
    "            >> Binary splits \n",
    "    '''\n",
    "    def gini_information_gain(parent_df, child_1_df, child_2_df):\n",
    "        \n",
    "        parent_gini = gini_index(parent_df)\n",
    "        \n",
    "        child_1_gini = gini_index(child_1_df)\n",
    "        \n",
    "        child_2_gini = gini_index(child_2_df)\n",
    "        \n",
    "        gain = parent_gini - (len(child_1_df)/len(parent_df)) * child_1_gini - (len(child_2_df)/len(parent_df)) * child_2_gini\n",
    "        \n",
    "        return gain  "
   ]
  },
  {
   "cell_type": "code",
   "execution_count": 7,
   "metadata": {},
   "outputs": [
    {
     "data": {
      "text/plain": [
       "0.42000000000000004"
      ]
     },
     "execution_count": 7,
     "metadata": {},
     "output_type": "execute_result"
    }
   ],
   "source": [
    "'''Test gini_index method'''\n",
    "gini_index(df)"
   ]
  },
  {
   "cell_type": "code",
   "execution_count": 8,
   "metadata": {},
   "outputs": [
    {
     "name": "stdout",
     "output_type": "stream",
     "text": [
      "child_1 gini 0.0\n",
      "child_2 gini 0.5\n",
      "parent gini 0.42000000000000004\n",
      "Gini Gain 0.12000000000000005\n"
     ]
    }
   ],
   "source": [
    "'''Test gini_gain method'''\n",
    "\n",
    "child_1 = df[0:4]\n",
    "child_2 = df[4: ]\n",
    "\n",
    "\n",
    "print('child_1 gini', gini_index(child_1))\n",
    "print('child_2 gini', gini_index(child_2))\n",
    "print('parent gini', gini_index(df))\n",
    "print('Gini Gain', gini_information_gain(df, child_1, child_2))"
   ]
  },
  {
   "cell_type": "code",
   "execution_count": null,
   "metadata": {},
   "outputs": [],
   "source": []
  },
  {
   "cell_type": "code",
   "execution_count": 24,
   "metadata": {},
   "outputs": [],
   "source": [
    "'''\n",
    "    How do you find the best questions? For now, take the unique values of all columns for string check for equality \n",
    "    and for numerics check for <= col value\n",
    "'''\n",
    "\n",
    "def find_best_split(df):\n",
    "    \n",
    "    best_gain = 1\n",
    "    best_col = None\n",
    "    best_question = None\n",
    "    yes_df = no_df = None\n",
    "\n",
    "    cols = [col for col in df.columns if col != 'default']\n",
    "    \n",
    "    for col in cols:\n",
    "        unique_vals = df[col].unique()\n",
    "\n",
    "        for val in unique_vals:\n",
    "            col_question = Question(col, val)\n",
    "\n",
    "            true_rows, false_rows = partition(df, col_question)\n",
    "\n",
    "            y_df = pd.DataFrame(true_rows)\n",
    "            n_df = pd.DataFrame(false_rows)\n",
    "\n",
    "                \n",
    "            split_gain = gini_information_gain(df, y_df, n_df)\n",
    "\n",
    "            if split_gain != 0 and split_gain <= best_gain:\n",
    "                best_gain = split_gain\n",
    "                best_col = col\n",
    "                best_question = col_question\n",
    "                yes_df = y_df\n",
    "                no_df = n_df\n",
    "        \n",
    "    return  yes_df, no_df, best_question   \n",
    "    \n",
    "    \n",
    "    \n",
    "    "
   ]
  },
  {
   "cell_type": "code",
   "execution_count": 25,
   "metadata": {},
   "outputs": [
    {
     "name": "stdout",
     "output_type": "stream",
     "text": [
      "annual_income <= 85\n"
     ]
    },
    {
     "data": {
      "text/html": [
       "<div>\n",
       "<style scoped>\n",
       "    .dataframe tbody tr th:only-of-type {\n",
       "        vertical-align: middle;\n",
       "    }\n",
       "\n",
       "    .dataframe tbody tr th {\n",
       "        vertical-align: top;\n",
       "    }\n",
       "\n",
       "    .dataframe thead th {\n",
       "        text-align: right;\n",
       "    }\n",
       "</style>\n",
       "<table border=\"1\" class=\"dataframe\">\n",
       "  <thead>\n",
       "    <tr style=\"text-align: right;\">\n",
       "      <th></th>\n",
       "      <th>home_owner</th>\n",
       "      <th>marital_status</th>\n",
       "      <th>annual_income</th>\n",
       "      <th>default</th>\n",
       "    </tr>\n",
       "  </thead>\n",
       "  <tbody>\n",
       "    <tr>\n",
       "      <th>2</th>\n",
       "      <td>no</td>\n",
       "      <td>Single</td>\n",
       "      <td>70</td>\n",
       "      <td>no</td>\n",
       "    </tr>\n",
       "    <tr>\n",
       "      <th>5</th>\n",
       "      <td>no</td>\n",
       "      <td>Married</td>\n",
       "      <td>60</td>\n",
       "      <td>no</td>\n",
       "    </tr>\n",
       "    <tr>\n",
       "      <th>7</th>\n",
       "      <td>no</td>\n",
       "      <td>Single</td>\n",
       "      <td>85</td>\n",
       "      <td>yes</td>\n",
       "    </tr>\n",
       "    <tr>\n",
       "      <th>8</th>\n",
       "      <td>no</td>\n",
       "      <td>Married</td>\n",
       "      <td>75</td>\n",
       "      <td>no</td>\n",
       "    </tr>\n",
       "  </tbody>\n",
       "</table>\n",
       "</div>"
      ],
      "text/plain": [
       "  home_owner marital_status  annual_income default\n",
       "2         no         Single             70      no\n",
       "5         no        Married             60      no\n",
       "7         no         Single             85     yes\n",
       "8         no        Married             75      no"
      ]
     },
     "execution_count": 25,
     "metadata": {},
     "output_type": "execute_result"
    }
   ],
   "source": [
    "yes_df, no_df, best_question  = find_best_split(df)\n",
    "print(best_question.to_string())\n",
    "print(gini_information_gain(df, yes_df,no_df))"
   ]
  },
  {
   "cell_type": "code",
   "execution_count": null,
   "metadata": {},
   "outputs": [],
   "source": []
  },
  {
   "cell_type": "code",
   "execution_count": null,
   "metadata": {},
   "outputs": [],
   "source": []
  },
  {
   "cell_type": "code",
   "execution_count": null,
   "metadata": {},
   "outputs": [],
   "source": []
  },
  {
   "cell_type": "code",
   "execution_count": 14,
   "metadata": {},
   "outputs": [],
   "source": [
    "class MyDecisionTree:\n",
    "      \n",
    "    \n",
    "    def create_node():\n",
    "        pass\n",
    "\n",
    "    def tree():\n",
    "        pass\n",
    "    \n",
    "    def fit(self, X_train, y_train):\n",
    "        self.X_train = X_train\n",
    "        self.y_train = y_train\n",
    "        \n",
    "        \n",
    "    def predict(self, X_test):\n",
    "        predictions = []\n",
    "        \n",
    "        return predictions\n",
    "    \n",
    "    "
   ]
  },
  {
   "cell_type": "code",
   "execution_count": 15,
   "metadata": {},
   "outputs": [],
   "source": [
    "myDT = MyDecisionTree()"
   ]
  },
  {
   "cell_type": "code",
   "execution_count": null,
   "metadata": {},
   "outputs": [],
   "source": []
  },
  {
   "cell_type": "code",
   "execution_count": null,
   "metadata": {},
   "outputs": [],
   "source": []
  },
  {
   "cell_type": "code",
   "execution_count": null,
   "metadata": {},
   "outputs": [],
   "source": []
  },
  {
   "cell_type": "code",
   "execution_count": 16,
   "metadata": {},
   "outputs": [
    {
     "name": "stdout",
     "output_type": "stream",
     "text": [
      "(10, 3) (10,)\n"
     ]
    }
   ],
   "source": [
    "# iris = load_iris()\n",
    "\n",
    "# X = iris.data\n",
    "# y = iris.target\n",
    "\n",
    "X = df.iloc[:, 0:3]\n",
    "y = df.iloc[:, -1]\n",
    "\n",
    "print(X.shape, y.shape)\n",
    "\n",
    "X_train, X_test, y_train, y_test = train_test_split(X, y, test_size = 0.2, random_state = 0)"
   ]
  },
  {
   "cell_type": "code",
   "execution_count": 17,
   "metadata": {},
   "outputs": [],
   "source": [
    "myDT = MyDecisionTree()\n",
    "\n",
    "myDT.fit(X_train, y_train)\n",
    "\n",
    "y_pred = myDT.predict(X_test)"
   ]
  },
  {
   "cell_type": "code",
   "execution_count": null,
   "metadata": {},
   "outputs": [],
   "source": []
  },
  {
   "cell_type": "code",
   "execution_count": null,
   "metadata": {},
   "outputs": [],
   "source": []
  },
  {
   "cell_type": "code",
   "execution_count": null,
   "metadata": {},
   "outputs": [],
   "source": []
  },
  {
   "cell_type": "code",
   "execution_count": null,
   "metadata": {},
   "outputs": [],
   "source": []
  },
  {
   "cell_type": "code",
   "execution_count": null,
   "metadata": {},
   "outputs": [],
   "source": []
  }
 ],
 "metadata": {
  "kernelspec": {
   "display_name": "Python 3",
   "language": "python",
   "name": "python3"
  },
  "language_info": {
   "codemirror_mode": {
    "name": "ipython",
    "version": 3
   },
   "file_extension": ".py",
   "mimetype": "text/x-python",
   "name": "python",
   "nbconvert_exporter": "python",
   "pygments_lexer": "ipython3",
   "version": "3.7.6"
  }
 },
 "nbformat": 4,
 "nbformat_minor": 4
}
